{
 "cells": [
  {
   "cell_type": "code",
   "execution_count": 12,
   "metadata": {},
   "outputs": [
    {
     "name": "stdout",
     "output_type": "stream",
     "text": [
      "5.0\n"
     ]
    },
    {
     "ename": "ZeroDivisionError",
     "evalue": "division by zero",
     "output_type": "error",
     "traceback": [
      "\u001b[1;31m---------------------------------------------------------------------------\u001b[0m",
      "\u001b[1;31mZeroDivisionError\u001b[0m                         Traceback (most recent call last)",
      "Cell \u001b[1;32mIn[12], line 4\u001b[0m\n\u001b[0;32m      2\u001b[0m     \u001b[39mreturn\u001b[39;00m(a\u001b[39m/\u001b[39mb)\n\u001b[0;32m      3\u001b[0m \u001b[39mprint\u001b[39m(div(\u001b[39m30\u001b[39m, \u001b[39m6\u001b[39m))\n\u001b[1;32m----> 4\u001b[0m \u001b[39mprint\u001b[39m(div(\u001b[39m3\u001b[39;49m, \u001b[39m0\u001b[39;49m))\n\u001b[0;32m      5\u001b[0m \u001b[39mprint\u001b[39m(div(\u001b[39m20\u001b[39m, \u001b[39m4\u001b[39m))\n\u001b[0;32m      6\u001b[0m \u001b[39m#here in line 2,3 isn't divisible by 0 but\u001b[39;00m\n\u001b[0;32m      7\u001b[0m \u001b[39m#line 3,20 is divisible by 4 but theres no output bcz of\u001b[39;00m\n\u001b[0;32m      8\u001b[0m \u001b[39m#programm crashed in line 2,thats called exception/syntax error  \u001b[39;00m\n",
      "Cell \u001b[1;32mIn[12], line 2\u001b[0m, in \u001b[0;36mdiv\u001b[1;34m(a, b)\u001b[0m\n\u001b[0;32m      1\u001b[0m \u001b[39mdef\u001b[39;00m \u001b[39mdiv\u001b[39m(a, b):\n\u001b[1;32m----> 2\u001b[0m     \u001b[39mreturn\u001b[39;00m(a\u001b[39m/\u001b[39;49mb)\n",
      "\u001b[1;31mZeroDivisionError\u001b[0m: division by zero"
     ]
    }
   ],
   "source": [
    "def div(a, b):\n",
    "    return(a/b)\n",
    "print(div(30, 6))\n",
    "print(div(3, 0))\n",
    "print(div(20, 4))\n",
    "#here in line 2,3 isn't divisible by 0 but\n",
    "#line 3,20 is divisible by 4 but theres no output bcz of\n",
    "#programm crashed in line 2,thats called exception/syntax error  "
   ]
  },
  {
   "cell_type": "code",
   "execution_count": 4,
   "metadata": {},
   "outputs": [
    {
     "name": "stdout",
     "output_type": "stream",
     "text": [
      "5.0\n",
      "can not divide by zero\n",
      "None\n",
      "5.0\n"
     ]
    }
   ],
   "source": [
    "#how to handle these situation \n",
    "def div(a, b):\n",
    "    try:\n",
    "        return(a/b)\n",
    "    except ZeroDivisionError:\n",
    "        print(\"can not divide by zero\")\n",
    "print(div(30, 6))\n",
    "print(div(3, 0))\n",
    "print(div(20, 4))"
   ]
  },
  {
   "cell_type": "code",
   "execution_count": 21,
   "metadata": {},
   "outputs": [
    {
     "name": "stdout",
     "output_type": "stream",
     "text": [
      "4.0\n",
      "can't divide by zero\n",
      "None\n"
     ]
    },
    {
     "ename": "TypeError",
     "evalue": "unsupported operand type(s) for /: 'str' and 'int'",
     "output_type": "error",
     "traceback": [
      "\u001b[1;31m---------------------------------------------------------------------------\u001b[0m",
      "\u001b[1;31mTypeError\u001b[0m                                 Traceback (most recent call last)",
      "Cell \u001b[1;32mIn [21], line 9\u001b[0m\n\u001b[0;32m      7\u001b[0m \u001b[39mprint\u001b[39m(div(\u001b[39m24\u001b[39m, \u001b[39m6\u001b[39m))\n\u001b[0;32m      8\u001b[0m \u001b[39mprint\u001b[39m(div(\u001b[39m3\u001b[39m, \u001b[39m0\u001b[39m))\n\u001b[1;32m----> 9\u001b[0m \u001b[39mprint\u001b[39m(div(\u001b[39m\"\u001b[39;49m\u001b[39m12\u001b[39;49m\u001b[39m\"\u001b[39;49m, \u001b[39m3\u001b[39;49m))\n",
      "Cell \u001b[1;32mIn [21], line 4\u001b[0m, in \u001b[0;36mdiv\u001b[1;34m(a, b)\u001b[0m\n\u001b[0;32m      2\u001b[0m \u001b[39mdef\u001b[39;00m \u001b[39mdiv\u001b[39m(a, b):\n\u001b[0;32m      3\u001b[0m     \u001b[39mtry\u001b[39;00m:\n\u001b[1;32m----> 4\u001b[0m         \u001b[39mreturn\u001b[39;00m(a\u001b[39m/\u001b[39;49mb)\n\u001b[0;32m      5\u001b[0m     \u001b[39mexcept\u001b[39;00m \u001b[39mZeroDivisionError\u001b[39;00m:\n\u001b[0;32m      6\u001b[0m         \u001b[39mprint\u001b[39m(\u001b[39m\"\u001b[39m\u001b[39mcan\u001b[39m\u001b[39m'\u001b[39m\u001b[39mt divide by zero\u001b[39m\u001b[39m\"\u001b[39m)\n",
      "\u001b[1;31mTypeError\u001b[0m: unsupported operand type(s) for /: 'str' and 'int'"
     ]
    }
   ],
   "source": [
    "#string & integer\n",
    "def div(a, b):\n",
    "    try:\n",
    "        return(a/b)\n",
    "    except ZeroDivisionError:\n",
    "        print(\"can't divide by zero\")\n",
    "print(div(24, 6))\n",
    "print(div(3, 0))\n",
    "print(div(\"12\", 3))               \n",
    "\n"
   ]
  },
  {
   "cell_type": "code",
   "execution_count": 20,
   "metadata": {},
   "outputs": [
    {
     "name": "stdout",
     "output_type": "stream",
     "text": [
      "4.0\n",
      "division by zero\n",
      "unsupported operand type(s) for /: 'str' and 'int'\n"
     ]
    }
   ],
   "source": [
    "# If an exception occurs simply return the exception and print\n",
    "# its default output instead of using a print statement inside the function\n",
    "# otherwise the function will return None whenever an exception occurs\n",
    "\n",
    "def div(a, b):\n",
    "    try:\n",
    "        out = a / b\n",
    "        return out\n",
    "    except ZeroDivisionError as error:\n",
    "        return error\n",
    "    except TypeError as error:\n",
    "        return error\n",
    "\n",
    "print(div(24, 6))\n",
    "print(div(3, 0))\n",
    "print(div(\"12\", 3))        "
   ]
  },
  {
   "cell_type": "code",
   "execution_count": null,
   "metadata": {},
   "outputs": [],
   "source": []
  }
 ],
 "metadata": {
  "kernelspec": {
   "display_name": "deep",
   "language": "python",
   "name": "python3"
  },
  "language_info": {
   "codemirror_mode": {
    "name": "ipython",
    "version": 3
   },
   "file_extension": ".py",
   "mimetype": "text/x-python",
   "name": "python",
   "nbconvert_exporter": "python",
   "pygments_lexer": "ipython3",
   "version": "3.10.8"
  },
  "orig_nbformat": 4,
  "vscode": {
   "interpreter": {
    "hash": "750b0b0bcdd9fe2e206a310bba2895779907b3630475ba10ada1c3aa2da185e2"
   }
  }
 },
 "nbformat": 4,
 "nbformat_minor": 2
}
