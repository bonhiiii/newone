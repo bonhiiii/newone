{
 "cells": [
  {
   "cell_type": "code",
   "execution_count": 1,
   "metadata": {},
   "outputs": [
    {
     "name": "stdout",
     "output_type": "stream",
     "text": [
      "[1, 2, 3, 'one', 'two', [6, 5, 7]]\n",
      "[3, 6, 9, 'three']\n",
      "[0, 1, 2, 3, 4, 5, 6, 7, 8, 9]\n"
     ]
    }
   ],
   "source": [
    "list_1= [1, 2, 3, \"one\", \"two\",[6,5,7]]\n",
    "list_2 = list ([3,6,9, \"three\"])\n",
    "list_3 = list(range(10))\n",
    "print(list_1)\n",
    "print(list_2)\n",
    "print(list_3)"
   ]
  },
  {
   "cell_type": "code",
   "execution_count": 2,
   "metadata": {},
   "outputs": [
    {
     "name": "stdout",
     "output_type": "stream",
     "text": [
      "list of all even number:[2, 4, 6, 8, 10, 12, 14, 16, 18, 20, 22, 24, 26, 28, 30, 32, 34, 36, 38, 40, 42, 44, 46, 48, 50, 52, 54, 56, 58, 60, 62, 64, 66, 68, 70, 72, 74, 76, 78, 80, 82, 84, 86, 88, 90, 92, 94, 96, 98, 100]/n\n",
      "list of all odd number: [1, 3, 5, 7, 9, 11, 13, 15, 17, 19, 21, 23, 25, 27, 29, 31, 33, 35, 37, 39, 41, 43, 45, 47, 49, 51, 53, 55, 57, 59, 61, 63, 65, 67, 69, 71, 73, 75, 77, 79, 81, 83, 85, 87, 89, 91, 93, 95, 97, 99]\n"
     ]
    }
   ],
   "source": [
    "list_comp_1 = [x for x in range(1, 101) if x%2 == 0]\n",
    "list_comp_2 = [x for x in range(1, 101) if x%2 != 0]\n",
    "print(f\"list of all even number:{list_comp_1}/n\")\n",
    "print(f\"list of all odd number: {list_comp_2}\")"
   ]
  },
  {
   "cell_type": "code",
   "execution_count": 3,
   "metadata": {},
   "outputs": [
    {
     "name": "stdout",
     "output_type": "stream",
     "text": [
      "1\n",
      "2\n",
      "3\n",
      "one\n",
      "two\n",
      "[6, 5, 7]\n"
     ]
    }
   ],
   "source": [
    "for value in list_1:\n",
    "     print(value)\n"
   ]
  },
  {
   "cell_type": "code",
   "execution_count": 4,
   "metadata": {},
   "outputs": [
    {
     "name": "stdout",
     "output_type": "stream",
     "text": [
      "index: 0, value 1\n",
      "index: 1, value 2\n",
      "index: 2, value 3\n",
      "index: 3, value one\n",
      "index: 4, value two\n",
      "index: 5, value [6, 5, 7]\n"
     ]
    }
   ],
   "source": [
    "for i in range(len(list_1)):\n",
    "    print(f\"index: {i}, value {list_1[i]}\")\n"
   ]
  },
  {
   "cell_type": "code",
   "execution_count": 5,
   "metadata": {},
   "outputs": [
    {
     "name": "stdout",
     "output_type": "stream",
     "text": [
      "accessing row0, and colum0\n",
      "accessing row0, and colum1\n",
      "accessing row0, and colum2\n",
      "accessing row1, and colum0\n",
      "accessing row1, and colum1\n",
      "accessing row1, and colum2\n",
      "accessing row2, and colum0\n",
      "accessing row2, and colum1\n",
      "accessing row2, and colum2\n",
      "/nthe result of A+B is: [[2, 3, 4], [5, 6, 7], [8, 9, 10]]\n"
     ]
    }
   ],
   "source": [
    "A = [[1, 2, 3], [4, 5, 6],[7, 8, 9]]\n",
    "B = [[1, 1, 1],[1, 1, 1],[1, 1, 1]]\n",
    "C = [[0, 0, 0],[0, 0, 0],[0, 0,0]]\n",
    "for i, _ in enumerate(A):\n",
    "    for j, _ in enumerate(B):\n",
    "        print(f\"accessing row{i}, and colum{j}\")\n",
    "        C[i][j] = A[i][j] + B[i][j]\n",
    "print(f\"/nthe result of A+B is: {C}\")"
   ]
  },
  {
   "cell_type": "code",
   "execution_count": 7,
   "metadata": {},
   "outputs": [
    {
     "name": "stdout",
     "output_type": "stream",
     "text": [
      "index position of x: [0, 1, 2, 3, 4, 5, 6]\n",
      "values at index: [1, 3, 4, 5, 2, 7, 9]\n",
      "sublist index start:\n"
     ]
    }
   ],
   "source": [
    "l = [1,3,4,5,2,7,9]\n",
    "\n",
    "# l_indices = list(range(len(1)))\n",
    "\n",
    "# Your wrote '1(number)' instead of 'l(letter)' inside len()\n",
    "l_indices = list(range(len(l)))\n",
    "sub_list = l[2:5]\n",
    "print(f\"index position of x: {l_indices}\")\n",
    "print(f\"values at index: {l}\")\n",
    "print(f\"sublist index start:\")\n"
   ]
  },
  {
   "cell_type": "code",
   "execution_count": null,
   "metadata": {},
   "outputs": [],
   "source": []
  }
 ],
 "metadata": {
  "kernelspec": {
   "display_name": "deep",
   "language": "python",
   "name": "python3"
  },
  "language_info": {
   "codemirror_mode": {
    "name": "ipython",
    "version": 3
   },
   "file_extension": ".py",
   "mimetype": "text/x-python",
   "name": "python",
   "nbconvert_exporter": "python",
   "pygments_lexer": "ipython3",
   "version": "3.10.8"
  },
  "orig_nbformat": 4,
  "vscode": {
   "interpreter": {
    "hash": "750b0b0bcdd9fe2e206a310bba2895779907b3630475ba10ada1c3aa2da185e2"
   }
  }
 },
 "nbformat": 4,
 "nbformat_minor": 2
}
