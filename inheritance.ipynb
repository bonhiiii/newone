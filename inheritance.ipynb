{
 "cells": [
  {
   "cell_type": "code",
   "execution_count": 1,
   "metadata": {},
   "outputs": [],
   "source": [
    "class vehicle:\n",
    "    \"\"\"base class for all vehicles\"\"\"\n",
    "     #\"\"\"-------\"\"\"\" is called docstring(docstring class is used in method/function)\n",
    "\n",
    "    def __init__(self, name, manufacturer, color):\n",
    "        self.name = name\n",
    "        self.manufacturer = manufacturer\n",
    "        self.color = color\n",
    "\n",
    "    def drive(self):\n",
    "        print(\"driving\", self.manufacturer, self.name)\n",
    "\n",
    "    def turn(self, direction):\n",
    "        print(\"turning\", self.name, \"to\", direction)\n",
    "\n",
    "    def brake(self):\n",
    "        print(self.name, \"is stopping!\")\n",
    "        if __name__ == \"__main__\":\n",
    "            v1 = vehicle(\"fusion 110 ex\", \"walton\",\"black\")\n",
    "            v2 = vehicle(\"softail delux\", \"harley-davidson\",\"blue\")\n",
    "            v3 = vehicle(\"mustang 5.0 gt coupe\", \"ford\", \"red\")\n",
    "            \n",
    "            v1.drive()\n",
    "            v2.drive()\n",
    "            v3.drive()\n",
    "\n",
    "            v1.turn(\"left\")\n",
    "            v2.turn(\"right\")\n",
    "            \n",
    "            v1.brake()\n",
    "            v2.brake()\n",
    "            v3.brake()\n",
    "\n",
    "\n"
   ]
  },
  {
   "cell_type": "code",
   "execution_count": 2,
   "metadata": {},
   "outputs": [],
   "source": [
    "class car(vehicle):\n",
    "#here car-class & vehicle-inheritance\n",
    "    \"\"\"car class\"\"\"\n",
    "\n",
    "    def change_gear(self, gear_name):\n",
    "#change_gear--method/function\n",
    "        \"\"\"method for changing gear\"\"\"\n",
    "        print(self.name, \"is changing gear to\", gear_name)\n"
   ]
  },
  {
   "cell_type": "code",
   "execution_count": 3,
   "metadata": {},
   "outputs": [
    {
     "name": "stdout",
     "output_type": "stream",
     "text": [
      "driving ford mustang 5.0 gt coupe\n",
      "mustang 5.0 gt coupe is stoping!\n",
      "mustang 5.0 gt coupe is changing gear to p\n"
     ]
    }
   ],
   "source": [
    "class vehicle:\n",
    "    \"\"\"base class for all vehicles\"\"\"\n",
    "\n",
    "    def __init__(self, name, manufacturer, color):\n",
    "        self.name = name\n",
    "        self.manufacturer = manufacturer\n",
    "        self.color = color\n",
    "\n",
    "    def drive(self):\n",
    "        print(\"driving\", self.manufacturer, self.name)\n",
    "    def turn(self, direction):\n",
    "        print(\"turning\", self.name, \"to\", direction)\n",
    "\n",
    "    def brake(self):\n",
    "        print(self.name, \"is stoping!\")\n",
    "class car(vehicle):\n",
    "    \"\"\"car class\"\"\"\n",
    "\n",
    "    def change_gear(self, gear_name):\n",
    "        \"\"\"method of changing gear\"\"\"\n",
    "        print(self.name, \"is changing gear to\", gear_name)\n",
    "\n",
    "if __name__ == \"__main__\":\n",
    "    c = car(\"mustang 5.0 gt coupe\", \"ford\", \"red\")\n",
    "    c.drive()   \n",
    "    c.brake()\n",
    "    c.change_gear(\"p\")     \n",
    "\n",
    "\n"
   ]
  },
  {
   "cell_type": "code",
   "execution_count": 5,
   "metadata": {},
   "outputs": [
    {
     "ename": "TypeError",
     "evalue": "vehicle.__init__() takes 4 positional arguments but 5 were given",
     "output_type": "error",
     "traceback": [
      "\u001b[1;31m---------------------------------------------------------------------------\u001b[0m",
      "\u001b[1;31mTypeError\u001b[0m                                 Traceback (most recent call last)",
      "Cell \u001b[1;32mIn[5], line 17\u001b[0m\n\u001b[0;32m     14\u001b[0m     \u001b[39mdef\u001b[39;00m \u001b[39mbrake\u001b[39m(\u001b[39mself\u001b[39m):\n\u001b[0;32m     15\u001b[0m         \u001b[39mprint\u001b[39m(\u001b[39mself\u001b[39m\u001b[39m.\u001b[39mname, \u001b[39m\"\u001b[39m\u001b[39mis stoping!\u001b[39m\u001b[39m\"\u001b[39m)\n\u001b[1;32m---> 17\u001b[0m \u001b[39mclass\u001b[39;00m \u001b[39mcar\u001b[39;00m(vehicle):\n\u001b[0;32m     18\u001b[0m     \u001b[39m\"\"\"car class\"\"\"\u001b[39;00m\n\u001b[0;32m     20\u001b[0m     \u001b[39mdef\u001b[39;00m \u001b[39m__init__\u001b[39m(\u001b[39mself\u001b[39m, name, manufacturer, color, year):\n",
      "Cell \u001b[1;32mIn[5], line 35\u001b[0m, in \u001b[0;36mcar\u001b[1;34m()\u001b[0m\n\u001b[0;32m     32\u001b[0m     \u001b[39mprint\u001b[39m(\u001b[39mself\u001b[39m\u001b[39m.\u001b[39mname, \u001b[39m\"\u001b[39m\u001b[39mis changing gear to\u001b[39m\u001b[39m\"\u001b[39m, gear_name)\n\u001b[0;32m     34\u001b[0m \u001b[39mif\u001b[39;00m \u001b[39m__name__\u001b[39m \u001b[39m==\u001b[39m \u001b[39m\"\u001b[39m\u001b[39m__main__\u001b[39m\u001b[39m\"\u001b[39m:\n\u001b[1;32m---> 35\u001b[0m     c \u001b[39m=\u001b[39m car(\u001b[39m\"\u001b[39;49m\u001b[39mmustang 5.0 gt coupe\u001b[39;49m\u001b[39m\"\u001b[39;49m, \u001b[39m\"\u001b[39;49m\u001b[39mford\u001b[39;49m\u001b[39m\"\u001b[39;49m, \u001b[39m\"\u001b[39;49m\u001b[39mred\u001b[39;49m\u001b[39m\"\u001b[39;49m, \u001b[39m2019\u001b[39;49m)\n",
      "\u001b[1;31mTypeError\u001b[0m: vehicle.__init__() takes 4 positional arguments but 5 were given"
     ]
    }
   ],
   "source": [
    "class vehicle:\n",
    "    \"\"\"base class for all vehicles\"\"\"\n",
    "\n",
    "    def __init__(self, name, manufacturer, color):\n",
    "        self.name = name\n",
    "        self.manufacturer = manufacturer\n",
    "        self.color = color\n",
    "\n",
    "    def drive(self):\n",
    "        print(\"driving\", self.manufacturer, self.name)\n",
    "    def turn(self, direction):\n",
    "        print(\"turning\", self.name, \"to\", direction)\n",
    "\n",
    "    def brake(self):\n",
    "        print(self.name, \"is stoping!\")\n",
    "        \n",
    "class car(vehicle):\n",
    "    \"\"\"car class\"\"\"\n",
    "\n",
    "    def __init__(self, name, manufacturer, color, year):\n",
    "        self.name = name\n",
    "        self.manufacturer = manufacturer\n",
    "        self.color = color\n",
    "        self.year = 2019\n",
    "        self.wheels = 4\n",
    "        print(\"a new car has been created.name: \",self.name)\n",
    "        print(\"it has\", self.wheels, \"wheels\")\n",
    "        print(\"the car was built in\", self.year)\n",
    "\n",
    "    def change_gear(self, gear_name):\n",
    "        \"\"\"method of changing gear\"\"\"\n",
    "        print(self.name, \"is changing gear to\", gear_name)\n",
    "\n",
    "    if __name__ == \"__main__\":\n",
    "        c = car(\"mustang 5.0 gt coupe\", \"ford\", \"red\", 2019)\n",
    "                "
   ]
  }
 ],
 "metadata": {
  "kernelspec": {
   "display_name": "Python 3",
   "language": "python",
   "name": "python3"
  },
  "language_info": {
   "codemirror_mode": {
    "name": "ipython",
    "version": 3
   },
   "file_extension": ".py",
   "mimetype": "text/x-python",
   "name": "python",
   "nbconvert_exporter": "python",
   "pygments_lexer": "ipython3",
   "version": "3.10.1"
  },
  "orig_nbformat": 4,
  "vscode": {
   "interpreter": {
    "hash": "de66d7802e14fb2e8694b63e255d0fe3514f0a531cbbfb87d1ecc51a74f4db4d"
   }
  }
 },
 "nbformat": 4,
 "nbformat_minor": 2
}
