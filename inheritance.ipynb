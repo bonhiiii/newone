{
 "cells": [
  {
   "cell_type": "code",
   "execution_count": 2,
   "metadata": {},
   "outputs": [],
   "source": [
    "class vehicle:\n",
    "    \"\"\"base class for all vehicles\"\"\"\n",
    "     #\"\"\"-------\"\"\"\" is called docstring(docstring class is used in method/function)\n",
    "\n",
    "    def __init__(self, name, manufacturer, color):\n",
    "        self.name = name\n",
    "        self.manufacturer = manufacturer\n",
    "        self.color = color\n",
    "\n",
    "    def drive(self):\n",
    "        print(\"driving\", self.manufacturer, self.name)\n",
    "\n",
    "    def turn(self, direction):\n",
    "        print(\"turning\", self.name, \"to\", direction)\n",
    "\n",
    "    def brake(self):\n",
    "        print(self.name, \"is stopping!\")\n",
    "        if __name__ == \"__main__\":\n",
    "            v1 = vehicle(\"fusion 110 ex\", \"walton\",\"black\")\n",
    "            v2 = vehicle(\"softail delux\", \"harley-davidson\",\"blue\")\n",
    "            v3 = vehicle(\"mustang 5.0 gt coupe\", \"ford\", \"red\")\n",
    "            \n",
    "            v1.drive()\n",
    "            v2.drive()\n",
    "            v3.drive()\n",
    "\n",
    "            v1.turn(\"left\")\n",
    "            v2.turn(\"right\")\n",
    "            \n",
    "            v1.brake()\n",
    "            v2.brake()\n",
    "            v3.brake()"
   ]
  },
  {
   "cell_type": "code",
   "execution_count": 3,
   "metadata": {},
   "outputs": [],
   "source": [
    "class car(vehicle):\n",
    "#here car-class & vehicle-inheritance\n",
    "    \"\"\"car class\"\"\"\n",
    "\n",
    "    def change_gear(self, gear_name):\n",
    "        #change_gear--method/function\n",
    "        \"\"\"method for changing gear\"\"\"\n",
    "        print(self.name, \"is changing gear to\", gear_name)\n"
   ]
  },
  {
   "cell_type": "code",
   "execution_count": 4,
   "metadata": {},
   "outputs": [
    {
     "name": "stdout",
     "output_type": "stream",
     "text": [
      "driving ford mustang 5.0 gt coupe\n",
      "mustang 5.0 gt coupe is stoping!\n",
      "mustang 5.0 gt coupe is changing gear to p\n"
     ]
    }
   ],
   "source": [
    "class vehicle:\n",
    "    \"\"\"base class for all vehicles\"\"\"\n",
    "\n",
    "    def __init__(self, name, manufacturer, color):\n",
    "        self.name = name\n",
    "        self.manufacturer = manufacturer\n",
    "        self.color = color\n",
    "\n",
    "    def drive(self):\n",
    "        print(\"driving\", self.manufacturer, self.name)\n",
    "    def turn(self, direction):\n",
    "        print(\"turning\", self.name, \"to\", direction)\n",
    "\n",
    "    def brake(self):\n",
    "        print(self.name, \"is stoping!\")\n",
    "class car(vehicle):\n",
    "    \"\"\"car class\"\"\"\n",
    "\n",
    "    def change_gear(self, gear_name):\n",
    "        \"\"\"method of changing gear\"\"\"\n",
    "        print(self.name, \"is changing gear to\", gear_name)\n",
    "\n",
    "if __name__ == \"__main__\":\n",
    "    c = car(\"mustang 5.0 gt coupe\", \"ford\", \"red\")\n",
    "    c.drive()   \n",
    "    c.brake()\n",
    "    c.change_gear(\"p\")     \n",
    "\n",
    "\n"
   ]
  },
  {
   "cell_type": "code",
   "execution_count": 6,
   "metadata": {},
   "outputs": [
    {
     "name": "stdout",
     "output_type": "stream",
     "text": [
      "a new car has been created.name:  mustang 5.0 gt coupe\n",
      "it has 4 wheels\n",
      "the car was built in 2019\n"
     ]
    }
   ],
   "source": [
    "class vehicle:\n",
    "    \"\"\"base class for all vehicles\"\"\"\n",
    "\n",
    "    def __init__(self, name, manufacturer, color):\n",
    "        self.name = name\n",
    "        self.manufacturer = manufacturer\n",
    "        self.color = color\n",
    "\n",
    "    def drive(self):\n",
    "        print(\"driving\", self.manufacturer, self.name)\n",
    "    def turn(self, direction):\n",
    "        print(\"turning\", self.name, \"to\", direction)\n",
    "\n",
    "    def brake(self):\n",
    "        print(self.name, \"is stoping!\")\n",
    "        \n",
    "class car(vehicle):\n",
    "    \"\"\"car class\"\"\"\n",
    "\n",
    "    def __init__(self, name, manufacturer, color, year):\n",
    "        self.name = name\n",
    "        self.manufacturer = manufacturer\n",
    "        self.color = color\n",
    "        self.year = 2019\n",
    "        self.wheels = 4\n",
    "        print(\"a new car has been created.name: \",self.name)\n",
    "        print(\"it has\", self.wheels, \"wheels\")\n",
    "        print(\"the car was built in\", self.year)\n",
    "\n",
    "    def change_gear(self, gear_name):\n",
    "        \"\"\"method of changing gear\"\"\"\n",
    "        print(self.name, \"is changing gear to\", gear_name)\n",
    "\n",
    "    # if __name__ == \"__main__\":\n",
    "    #     c = car(\"mustang 5.0 gt coupe\", \"ford\", \"red\", 2019)\n",
    "\n",
    "# You wrote this part inside car class \n",
    "if __name__ == \"__main__\":\n",
    "    c = car(\"mustang 5.0 gt coupe\", \"ford\", \"red\", 2019)                "
   ]
  },
  {
   "cell_type": "code",
   "execution_count": null,
   "metadata": {},
   "outputs": [],
   "source": []
  }
 ],
 "metadata": {
  "kernelspec": {
   "display_name": "deep",
   "language": "python",
   "name": "python3"
  },
  "language_info": {
   "codemirror_mode": {
    "name": "ipython",
    "version": 3
   },
   "file_extension": ".py",
   "mimetype": "text/x-python",
   "name": "python",
   "nbconvert_exporter": "python",
   "pygments_lexer": "ipython3",
   "version": "3.10.8"
  },
  "orig_nbformat": 4,
  "vscode": {
   "interpreter": {
    "hash": "750b0b0bcdd9fe2e206a310bba2895779907b3630475ba10ada1c3aa2da185e2"
   }
  }
 },
 "nbformat": 4,
 "nbformat_minor": 2
}
